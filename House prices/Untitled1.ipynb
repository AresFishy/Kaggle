{
 "cells": [
  {
   "cell_type": "code",
   "execution_count": 1,
   "metadata": {
    "collapsed": true
   },
   "outputs": [],
   "source": [
    "import tensorflow as tf\n",
    "import edward as ed\n",
    "import numpy as np\n",
    "import seaborn as sns\n",
    "import pandas as pd\n",
    "\n",
    "from edward.models import Normal\n",
    "\n",
    "import matplotlib.pyplot as plt\n",
    "from mpl_toolkits.mplot3d import Axes3D\n",
    "\n",
    "from scipy.stats import skew, kurtosis\n",
    "from sklearn.preprocessing import scale\n",
    "\n",
    "%matplotlib inline\n",
    "plt.style.use('seaborn')"
   ]
  },
  {
   "cell_type": "code",
   "execution_count": 37,
   "metadata": {
    "collapsed": true
   },
   "outputs": [],
   "source": [
    "train_data = pd.read_csv('train.csv')\n",
    "\n",
    "# Isolate and log-transform all numeric data\n",
    "numeric_data = train_data.dtypes[train_data.dtypes != 'object'].index\n",
    "skewed = train_data[numeric_data].apply(lambda x: skew(x.dropna()))\n",
    "skewed = skewed[skewed > 0.2].index\n",
    "train_data[skewed] = np.log1p(train_data[skewed])\n",
    "# Apparently this gets \"dummy data\" for categorical data\n",
    "train_data = pd.get_dummies(train_data) # this is pretty sick\n",
    "# fill nansies\n",
    "train_data = train_data.fillna(train_data.mean())\n",
    "train_data.reset_index(inplace=True)\n",
    "\n",
    "X_train = (train_data.drop('SalePrice', axis=1))\n",
    "X_train = scale(X_train)\n",
    "prices = scale(np.asarray(train_data['SalePrice']))\n",
    "N = X_train.shape[0] # number of data points\n",
    "D = X_train.shape[1] # number of features"
   ]
  },
  {
   "cell_type": "code",
   "execution_count": 38,
   "metadata": {},
   "outputs": [],
   "source": [
    "x = tf.placeholder(tf.float32, [N, D]) # training data placeholder\n",
    "# Hyperpriors:\n",
    "mn_offset = np.mean(prices, axis=0)\n",
    "\n",
    "mu_A = Normal(loc=mn_offset*tf.ones(1), scale=tf.ones(1))\n",
    "sd_A = Normal(loc=tf.zeros(1), scale=tf.ones(1))\n",
    "\n",
    "mu_B = Normal(loc=tf.zeros(D), scale=tf.ones(D))\n",
    "sd_B = Normal(loc=tf.zeros(D), scale=tf.ones(D))\n",
    "\n",
    "# The model is of the form mu = A + Bx\n",
    "\n",
    "B = Normal(loc=mu_B, scale=sd_B)\n",
    "A = Normal(loc=mu_A, scale=sd_A)\n",
    "\n",
    "# model\n",
    "M_y = A + ed.dot(x, B)\n",
    "y = Normal(loc=M_y, scale=tf.ones(N))\n",
    "\n",
    "# approximate distributions\n",
    "qB = Normal(\n",
    "    loc=tf.Variable(tf.random_normal([D])),\n",
    "    scale=tf.nn.softplus(tf.Variable(tf.random_normal([D]))))\n",
    "\n",
    "qA = Normal(\n",
    "    loc=tf.Variable(mn_offset+tf.random_normal([1])),\n",
    "    scale=tf.nn.softplus(tf.Variable(tf.random_normal([1]))))\n",
    "\n",
    "qMA = Normal(\n",
    "    loc=tf.Variable(mn_offset+tf.random_normal([1])),\n",
    "    scale=tf.nn.softplus(tf.Variable(tf.random_normal([1]))))\n",
    "\n",
    "qMB = Normal(\n",
    "    loc=tf.Variable(tf.random_normal([D])),\n",
    "    scale=tf.nn.softplus(tf.Variable(tf.random_normal([D]))))\n",
    "\n",
    "qSA =  Normal(\n",
    "    loc=tf.Variable(mn_offset+tf.random_normal([1])),\n",
    "    scale=tf.nn.softplus(tf.Variable(tf.random_normal([1]))))\n",
    "\n",
    "qSB = Normal(\n",
    "    loc=tf.Variable(tf.random_normal([D])),\n",
    "    scale=tf.nn.softplus(tf.Variable(tf.random_normal([D]))))"
   ]
  },
  {
   "cell_type": "code",
   "execution_count": 39,
   "metadata": {},
   "outputs": [],
   "source": [
    "latent_vars = {\n",
    "    A: qA,\n",
    "    B: qB,\n",
    "    mu_A: qMA,\n",
    "    mu_B: qMB,\n",
    "    sd_A: qSA,\n",
    "    sd_B: qSB    \n",
    "}"
   ]
  },
  {
   "cell_type": "code",
   "execution_count": 40,
   "metadata": {
    "collapsed": true
   },
   "outputs": [],
   "source": [
    "config = tf.ConfigProto()\n",
    "config.gpu_options.allow_growth = True\n",
    "sess = tf.InteractiveSession(config=config)\n",
    "tf.global_variables_initializer().run()"
   ]
  },
  {
   "cell_type": "code",
   "execution_count": 41,
   "metadata": {},
   "outputs": [
    {
     "name": "stdout",
     "output_type": "stream",
     "text": [
      "10000/10000 [100%] ██████████████████████████████ Elapsed: 137s | Loss: 95309.305\n"
     ]
    }
   ],
   "source": [
    "inference = ed.KLqp(latent_vars, data={x: X_train, y: prices})\n",
    "inference.run(n_samples=5, n_iter=10000)"
   ]
  },
  {
   "cell_type": "code",
   "execution_count": 42,
   "metadata": {},
   "outputs": [],
   "source": [
    "yp = ed.copy(y, latent_vars)"
   ]
  },
  {
   "cell_type": "code",
   "execution_count": 43,
   "metadata": {},
   "outputs": [
    {
     "name": "stdout",
     "output_type": "stream",
     "text": [
      "38.7497\n"
     ]
    }
   ],
   "source": [
    "print(ed.evaluate('mse', data={x: X_train, yp: (prices)}))"
   ]
  },
  {
   "cell_type": "code",
   "execution_count": 44,
   "metadata": {
    "collapsed": true
   },
   "outputs": [],
   "source": [
    "aa = yp.sample(400).eval(feed_dict={x: X_train})"
   ]
  },
  {
   "cell_type": "code",
   "execution_count": 45,
   "metadata": {},
   "outputs": [
    {
     "data": {
      "text/plain": [
       "[<matplotlib.lines.Line2D at 0x27bcee67668>]"
      ]
     },
     "execution_count": 45,
     "metadata": {},
     "output_type": "execute_result"
    },
    {
     "data": {
      "image/png": "[encoded data removed]",
      "text/plain": [
       "<matplotlib.figure.Figure at 0x27bcf10df98>"
      ]
     },
     "metadata": {},
     "output_type": "display_data"
    }
   ],
   "source": [
    "plt.plot(np.mean(aa, axis=0))\n",
    "plt.plot(prices)"
   ]
  },
  {
   "cell_type": "code",
   "execution_count": null,
   "metadata": {
    "collapsed": true
   },
   "outputs": [],
   "source": []
  }
 ],
 "metadata": {
  "kernelspec": {
   "display_name": "Python 3",
   "language": "python",
   "name": "python3"
  },
  "language_info": {
   "codemirror_mode": {
    "name": "ipython",
    "version": 3
   },
   "file_extension": ".py",
   "mimetype": "text/x-python",
   "name": "python",
   "nbconvert_exporter": "python",
   "pygments_lexer": "ipython3",
   "version": "3.6.3"
  }
 },
 "nbformat": 4,
 "nbformat_minor": 2
}
