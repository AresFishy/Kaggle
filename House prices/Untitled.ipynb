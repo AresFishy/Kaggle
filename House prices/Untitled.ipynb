{
 "cells": [
  {
   "cell_type": "code",
   "execution_count": 32,
   "metadata": {
    "collapsed": true
   },
   "outputs": [],
   "source": [
    "import tensorflow as tf\n",
    "import edward as ed\n",
    "import numpy as np\n",
    "import seaborn as sns\n",
    "import pandas as pd\n",
    "\n",
    "from edward.models import Normal\n",
    "\n",
    "import matplotlib.pyplot as plt\n",
    "from scipy.stats import skew, kurtosis\n",
    "from sklearn.preprocessing import scale\n",
    "\n",
    "%matplotlib inline\n",
    "plt.style.use('seaborn')"
   ]
  },
  {
   "cell_type": "code",
   "execution_count": 2,
   "metadata": {
    "collapsed": true
   },
   "outputs": [],
   "source": [
    "train_data = pd.read_csv('train.csv')"
   ]
  },
  {
   "cell_type": "code",
   "execution_count": 6,
   "metadata": {},
   "outputs": [],
   "source": [
    "# Isolate and log-transform all numeric data\n",
    "numeric_data = train_data.dtypes[train_data.dtypes != 'object'].index\n",
    "skewed = train_data[numeric_data].apply(lambda x: skew(x.dropna()))\n",
    "skewed = skewed[skewed > 0.75].index\n",
    "train_data[skewed] = np.log1p(train_data[skewed])"
   ]
  },
  {
   "cell_type": "code",
   "execution_count": 7,
   "metadata": {
    "collapsed": true
   },
   "outputs": [],
   "source": [
    "# Apparently this gets \"dummy data\" for categorical data\n",
    "train_data = pd.get_dummies(train_data) # this is pretty sick"
   ]
  },
  {
   "cell_type": "code",
   "execution_count": 9,
   "metadata": {
    "collapsed": true
   },
   "outputs": [],
   "source": [
    "# fill nansies\n",
    "train_data = train_data.fillna(train_data.mean())"
   ]
  },
  {
   "cell_type": "code",
   "execution_count": 177,
   "metadata": {},
   "outputs": [],
   "source": [
    "X_train = scale(train_data.drop('SalePrice', axis=1))\n",
    "prices = scale(train_data['SalePrice'])"
   ]
  },
  {
   "cell_type": "code",
   "execution_count": 178,
   "metadata": {},
   "outputs": [],
   "source": [
    "N = X_train.shape[0] # number of data points\n",
    "D = X_train.shape[1] # number of features"
   ]
  },
  {
   "cell_type": "code",
   "execution_count": 219,
   "metadata": {},
   "outputs": [],
   "source": [
    "# modelus\n",
    "def neural_network(x):\n",
    "    h = tf.tanh(tf.matmul(x, W0) + b0)\n",
    "    h = tf.tanh(tf.matmul(h, W1) + b1)\n",
    "    h = (tf.matmul(h, W2) + b2)\n",
    "    return tf.reshape(h, [-1])\n",
    "\n",
    "h1Size = 10 # hidden layer size\n",
    "h2Size = 2 # 2nd layer size\n",
    "\n",
    "W0 = Normal(loc=tf.zeros([D, h1Size]), scale=tf.ones([D, h1Size]))\n",
    "W1 = Normal(loc=tf.zeros([h1Size, h2Size]), scale=tf.ones([h1Size, h2Size]))\n",
    "W2 = Normal(loc=tf.zeros([h2Size, 1]), scale=tf.ones([h2Size, 1]))\n",
    "b0 = Normal(loc=tf.zeros([h1Size]), scale=tf.ones([h1Size]))\n",
    "b1 = Normal(loc=tf.zeros([h2Size]), scale=tf.ones([h2Size]))\n",
    "b2 = Normal(loc=tf.zeros([1]), scale=tf.ones([1]))\n",
    "\n",
    "x = tf.cast(X_train, tf.float32)\n",
    "y = Normal(loc=neural_network(x), scale=0.1*tf.ones(1))"
   ]
  },
  {
   "cell_type": "code",
   "execution_count": 220,
   "metadata": {
    "collapsed": true
   },
   "outputs": [],
   "source": [
    "qW0 = Normal(loc=tf.Variable(tf.zeros([D, h1Size])),\n",
    "             scale=tf.nn.softplus(tf.Variable(tf.ones([D, h1Size]))))\n",
    "qW1 = Normal(loc=tf.Variable(tf.zeros([h1Size, h2Size])),\n",
    "             scale=tf.nn.softplus(tf.Variable(tf.ones([h1Size, h2Size]))))\n",
    "qW2 = Normal(loc=tf.Variable(tf.zeros([h2Size, 1])),\n",
    "             scale=tf.nn.softplus(tf.Variable(tf.ones([h2Size, 1]))))\n",
    "qb0 = Normal(loc=tf.Variable(tf.zeros([h1Size])), \n",
    "             scale=tf.nn.softplus(tf.Variable(tf.ones([h1Size]))))\n",
    "qb1 = Normal(loc=tf.Variable(tf.zeros([h2Size])),\n",
    "             scale=tf.nn.softplus(tf.Variable(tf.ones([h2Size]))))\n",
    "qb2 = Normal(loc=tf.Variable(tf.zeros([1])),\n",
    "             scale=tf.nn.softplus(tf.Variable(tf.ones([1]))))"
   ]
  },
  {
   "cell_type": "code",
   "execution_count": 212,
   "metadata": {
    "collapsed": true
   },
   "outputs": [],
   "source": [
    "config = tf.ConfigProto()\n",
    "config.gpu_options.allow_growth = True\n",
    "sess = tf.InteractiveSession(config=config)\n"
   ]
  },
  {
   "cell_type": "code",
   "execution_count": 213,
   "metadata": {
    "collapsed": true
   },
   "outputs": [],
   "source": [
    "latent_vars = {\n",
    "    W0: qW0, W1: qW1, W2: qW2,\n",
    "    b0: qb0, b1: qb1, b2: qb2\n",
    "}\n",
    "\n",
    "y_ph = tf.placeholder(tf.float32, shape=None)\n",
    "X = tf.placeholder(tf.float32, shape=[None, D])\n",
    "batch_size = 20"
   ]
  },
  {
   "cell_type": "code",
   "execution_count": 214,
   "metadata": {},
   "outputs": [],
   "source": [
    "inference = ed.KLqp(latent_vars)\n",
    "inference.initialize(n_samples=10)\n",
    "tf.global_variables_initializer().run()"
   ]
  },
  {
   "cell_type": "code",
   "execution_count": 215,
   "metadata": {},
   "outputs": [
    {
     "name": "stdout",
     "output_type": "stream",
     "text": [
      "1000/1000 [100%] ██████████████████████████████ Elapsed: 31s | Loss: -0.000\n"
     ]
    }
   ],
   "source": [
    "train_length = 1000\n",
    "for ind in range(train_length):\n",
    "    start = np.mod((ind-1)*batch_size+1,N)\n",
    "    fin =  np.mod((ind)*batch_size,N)\n",
    "    X_batch = X_train[start:fin, :]\n",
    "    y_batch = prices[start:fin]\n",
    "    info_dict = inference.update()\n",
    "    inference.print_progress(info_dict)"
   ]
  },
  {
   "cell_type": "code",
   "execution_count": 216,
   "metadata": {},
   "outputs": [],
   "source": [
    "yp = ed.copy(y, latent_vars)"
   ]
  },
  {
   "cell_type": "code",
   "execution_count": 217,
   "metadata": {},
   "outputs": [
    {
     "data": {
      "text/plain": [
       "[<matplotlib.lines.Line2D at 0x25927b9b080>]"
      ]
     },
     "execution_count": 217,
     "metadata": {},
     "output_type": "execute_result"
    },
    {
     "data": {
      "image/png": "[encoded data removed]",
      "text/plain": [
       "<matplotlib.figure.Figure at 0x25927b9b518>"
      ]
     },
     "metadata": {},
     "output_type": "display_data"
    }
   ],
   "source": [
    "plt.plot(yp.eval())\n",
    "plt.plot(prices)"
   ]
  },
  {
   "cell_type": "code",
   "execution_count": 218,
   "metadata": {},
   "outputs": [
    {
     "name": "stdout",
     "output_type": "stream",
     "text": [
      "1.01038\n"
     ]
    }
   ],
   "source": [
    "print(ed.evaluate('mse', data={X: X_train, yp: np.asarray(prices)}))"
   ]
  },
  {
   "cell_type": "code",
   "execution_count": 128,
   "metadata": {
    "collapsed": true
   },
   "outputs": [],
   "source": [
    "def visualize_data_fit(X, y, B, A, title_prefix, n_samples=10):\n",
    "    B_samples = B.sample(n_samples).eval()\n",
    "    A_samples = A.sample(n_samples).eval()\n",
    "    \n",
    "    fig = plt.figure(figsize=(12, 9))\n",
    "    ax = plt.axes(projection='3d')\n",
    "    ax.scatter(X[:, 0], X[:, 1], y)\n",
    "    plt.title(f'{title_prefix} Parameter Samples vs. Observed Data')\n",
    "    \n",
    "    inputs = np.linspace(-10, 10, num=500)\n",
    "    for i in range(n_samples):\n",
    "        output = inputs * B_samples[i][0] + inputs*B_samples[i][1]\n",
    "        ax.plot(inputs, inputs, output)"
   ]
  },
  {
   "cell_type": "code",
   "execution_count": null,
   "metadata": {},
   "outputs": [],
   "source": [
    "visualize_data_fit(X_train, y_train, qB_fixed_effects, qA, 'Posterior', n_samples=10)"
   ]
  },
  {
   "cell_type": "code",
   "execution_count": 139,
   "metadata": {},
   "outputs": [],
   "source": [
    "next?"
   ]
  },
  {
   "cell_type": "code",
   "execution_count": null,
   "metadata": {
    "collapsed": true
   },
   "outputs": [],
   "source": []
  }
 ],
 "metadata": {
  "kernelspec": {
   "display_name": "Python 3",
   "language": "python",
   "name": "python3"
  },
  "language_info": {
   "codemirror_mode": {
    "name": "ipython",
    "version": 3
   },
   "file_extension": ".py",
   "mimetype": "text/x-python",
   "name": "python",
   "nbconvert_exporter": "python",
   "pygments_lexer": "ipython3",
   "version": "3.6.3"
  }
 },
 "nbformat": 4,
 "nbformat_minor": 2
}
